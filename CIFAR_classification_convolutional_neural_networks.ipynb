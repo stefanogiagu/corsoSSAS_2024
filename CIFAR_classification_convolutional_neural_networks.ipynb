{
  "nbformat": 4,
  "nbformat_minor": 0,
  "metadata": {
    "colab": {
      "provenance": [],
      "machine_shape": "hm",
      "gpuType": "V100",
      "authorship_tag": "ABX9TyNrr0Gdf9fvrznWJ9rwdjOe",
      "include_colab_link": true
    },
    "kernelspec": {
      "name": "python3",
      "display_name": "Python 3"
    },
    "language_info": {
      "name": "python"
    },
    "accelerator": "GPU"
  },
  "cells": [
    {
      "cell_type": "markdown",
      "metadata": {
        "id": "view-in-github",
        "colab_type": "text"
      },
      "source": [
        "<a href=\"https://colab.research.google.com/github/stefanogiagu/corsoSSAS_2024/blob/main/CIFAR_classification_convolutional_neural_networks.ipynb\" target=\"_parent\"><img src=\"https://colab.research.google.com/assets/colab-badge.svg\" alt=\"Open In Colab\"/></a>"
      ]
    },
    {
      "cell_type": "code",
      "execution_count": null,
      "metadata": {
        "id": "qL26fKBFcV-2",
        "colab": {
          "base_uri": "https://localhost:8080/"
        },
        "outputId": "72234cad-fdfe-428e-f093-3968da885f7b"
      },
      "outputs": [
        {
          "output_type": "stream",
          "name": "stdout",
          "text": [
            "Downloading http://yann.lecun.com/exdb/mnist/train-images-idx3-ubyte.gz\n",
            "Downloading http://yann.lecun.com/exdb/mnist/train-images-idx3-ubyte.gz to ./data/MNIST/raw/train-images-idx3-ubyte.gz\n"
          ]
        },
        {
          "output_type": "stream",
          "name": "stderr",
          "text": [
            "100%|██████████| 9912422/9912422 [00:00<00:00, 94391999.34it/s]\n"
          ]
        },
        {
          "output_type": "stream",
          "name": "stdout",
          "text": [
            "Extracting ./data/MNIST/raw/train-images-idx3-ubyte.gz to ./data/MNIST/raw\n",
            "\n",
            "Downloading http://yann.lecun.com/exdb/mnist/train-labels-idx1-ubyte.gz\n",
            "Downloading http://yann.lecun.com/exdb/mnist/train-labels-idx1-ubyte.gz to ./data/MNIST/raw/train-labels-idx1-ubyte.gz\n"
          ]
        },
        {
          "output_type": "stream",
          "name": "stderr",
          "text": [
            "100%|██████████| 28881/28881 [00:00<00:00, 23326727.10it/s]\n"
          ]
        },
        {
          "output_type": "stream",
          "name": "stdout",
          "text": [
            "Extracting ./data/MNIST/raw/train-labels-idx1-ubyte.gz to ./data/MNIST/raw\n",
            "\n",
            "Downloading http://yann.lecun.com/exdb/mnist/t10k-images-idx3-ubyte.gz\n",
            "Downloading http://yann.lecun.com/exdb/mnist/t10k-images-idx3-ubyte.gz to ./data/MNIST/raw/t10k-images-idx3-ubyte.gz\n"
          ]
        },
        {
          "output_type": "stream",
          "name": "stderr",
          "text": [
            "100%|██████████| 1648877/1648877 [00:00<00:00, 24284946.67it/s]\n"
          ]
        },
        {
          "output_type": "stream",
          "name": "stdout",
          "text": [
            "Extracting ./data/MNIST/raw/t10k-images-idx3-ubyte.gz to ./data/MNIST/raw\n",
            "\n",
            "Downloading http://yann.lecun.com/exdb/mnist/t10k-labels-idx1-ubyte.gz\n",
            "Downloading http://yann.lecun.com/exdb/mnist/t10k-labels-idx1-ubyte.gz to ./data/MNIST/raw/t10k-labels-idx1-ubyte.gz\n"
          ]
        },
        {
          "output_type": "stream",
          "name": "stderr",
          "text": [
            "100%|██████████| 4542/4542 [00:00<00:00, 4129748.27it/s]\n"
          ]
        },
        {
          "output_type": "stream",
          "name": "stdout",
          "text": [
            "Extracting ./data/MNIST/raw/t10k-labels-idx1-ubyte.gz to ./data/MNIST/raw\n",
            "\n"
          ]
        }
      ],
      "source": [
        "import torch\n",
        "import torch.nn as nn\n",
        "import torch.optim as optim\n",
        "import torchvision\n",
        "import torchvision.transforms as transforms\n",
        "from sklearn.metrics import confusion_matrix\n",
        "import matplotlib.pyplot as plt\n",
        "import numpy as np\n",
        "\n",
        "# Set random seed for reproducibility\n",
        "torch.manual_seed(42)\n",
        "\n",
        "# Load the CIFAR dataset and apply transformations\n",
        "transform = transforms.Compose([transforms.ToTensor(), transforms.Normalize((0.5,), (0.5,))])\n",
        "\n",
        "trainset = torchvision.datasets.MNIST(root='./data', train=True, download=True, transform=transform)\n",
        "testset = torchvision.datasets.MNIST(root='./data', train=False, download=True, transform=transform)\n",
        "\n",
        "classes = [\"airplanes\", \"cars\", \"birds\", \"cats\", \"deer\", \"five\", \"frogs\", \"horses\", \"ships\", \"trucks\"]\n",
        "\n",
        "# Create data loaders\n",
        "trainloader = torch.utils.data.DataLoader(trainset, batch_size=128, shuffle=True)\n",
        "testloader = torch.utils.data.DataLoader(testset, batch_size=128, shuffle=False)"
      ]
    },
    {
      "cell_type": "code",
      "source": [
        "#plot an element of the trainset using plt\n",
        "img, label = trainset[0]\n",
        "print(\"shape of an image : \" , img.shape)\n",
        "print(\"label for the image : \",  label)\n",
        "\n",
        "def plot_tensor_image(img, label):\n",
        "  # normalize\n",
        "  img = (img - img.amin(dim = (-1,-2),keepdim=True))/(img.amax(dim = (-1,-2),keepdim=True)-img.amin(dim = (-1,-2),keepdim=True))\n",
        "  print(img.shape)\n",
        "  f, ax = plt.subplots(1,figsize=(2,2))\n",
        "  ax.imshow(img.squeeze().numpy(), cmap = \"Greys\",vmin=0,vmax=1)# img is a tensor, it is better to convert to numpy (using the method .numpy() )\n",
        "  ax.set_title(\"image of a {}\".format(classes[label]))\n",
        "plot_tensor_image(img, label)"
      ],
      "metadata": {
        "colab": {
          "base_uri": "https://localhost:8080/",
          "height": 289
        },
        "id": "TU0FYFTLcjuK",
        "outputId": "8af72f32-4ddc-420a-a2a1-968f7c0984fd"
      },
      "execution_count": null,
      "outputs": [
        {
          "output_type": "stream",
          "name": "stdout",
          "text": [
            "shape of an image :  torch.Size([1, 28, 28])\n",
            "label for the image :  5\n",
            "torch.Size([1, 28, 28])\n"
          ]
        },
        {
          "output_type": "display_data",
          "data": {
            "text/plain": [
              "<Figure size 200x200 with 1 Axes>"
            ],
            "image/png": "[encoded data removed]"
          },
          "metadata": {}
        }
      ]
    },
    {
      "cell_type": "markdown",
      "source": [
        "## Mini - batches with the dataloader.\n",
        "We need to sample B elements from our dataset (without repetitions) to form a batch.\n",
        "\n",
        "We can use the dataloader from pyTorch:\n",
        "- it will take a dataset and a batch size (B) as an argument\n",
        "- each time it is called it will return B elements (random, if shuffle == True) from the dataset.\n",
        "- when the elements are exausted the dataloader will reset itself.\n",
        "\n"
      ],
      "metadata": {
        "id": "Jhv_JAAAeNVf"
      }
    },
    {
      "cell_type": "code",
      "source": [
        "for minibatch in trainloader:# loop over batches\n",
        "  batch_of_images,  batch_of_labels = minibatch # unpack the batch\n",
        "  print(\"shape of the batch : \",batch_of_images.shape)\n",
        "  break # exit from the cicle, this way only the first batch will be printed"
      ],
      "metadata": {
        "id": "FONo4ovAcu67",
        "colab": {
          "base_uri": "https://localhost:8080/"
        },
        "outputId": "346914ba-bc0d-4de9-f91b-b1c41d076a2e"
      },
      "execution_count": null,
      "outputs": [
        {
          "output_type": "stream",
          "name": "stdout",
          "text": [
            "shape of the batch :  torch.Size([128, 1, 28, 28])\n"
          ]
        }
      ]
    },
    {
      "cell_type": "markdown",
      "source": [
        "# To build our neural network we will use pyToch layers:\n",
        "- it is the Base class for all neural network modules.\n",
        "- Our models should also subclass this class.\n",
        "- In general Modules will have parameters that we want to optimize, they will perform operations on some input and they will be \"derivable\" using the pytorch \"gradient\"\n",
        "\n"
      ],
      "metadata": {
        "id": "8Slr6XD2nfUf"
      }
    },
    {
      "cell_type": "markdown",
      "source": [
        "## This is an example of a class and a hint about class interitance\n",
        "We are going to use this \"way\" to exploit pytorch modules to buid our models"
      ],
      "metadata": {
        "id": "fA0YaFekoiwc"
      }
    },
    {
      "cell_type": "code",
      "source": [
        "# layers can be used and defined, they are not very usefull on their own"
      ],
      "metadata": {
        "id": "kstW5ABRpC_2"
      },
      "execution_count": null,
      "outputs": []
    },
    {
      "cell_type": "code",
      "source": [
        "# define a conv layer with one output\n",
        "my_conv_layer = nn.Conv2d(in_channels = 1, out_channels = 1, kernel_size = 3, stride = 1, padding = 0, dilation = 1)"
      ],
      "metadata": {
        "id": "cXR5Z-cytL9m"
      },
      "execution_count": null,
      "outputs": []
    },
    {
      "cell_type": "code",
      "source": [
        "img.unsqueeze(0).shape"
      ],
      "metadata": {
        "colab": {
          "base_uri": "https://localhost:8080/"
        },
        "id": "OEwLz49HJd4m",
        "outputId": "7f98b10d-acfe-4473-f677-3e04598bfa7a"
      },
      "execution_count": null,
      "outputs": [
        {
          "output_type": "execute_result",
          "data": {
            "text/plain": [
              "torch.Size([1, 1, 28, 28])"
            ]
          },
          "metadata": {},
          "execution_count": 48
        }
      ]
    },
    {
      "cell_type": "code",
      "source": [
        "# now\n",
        "filtered_img = my_conv_layer(img.unsqueeze(0)).detach()# We need to add the bach dimention, # detach is used to remove the \"gradients\""
      ],
      "metadata": {
        "id": "UEO69o7ctsq4"
      },
      "execution_count": null,
      "outputs": []
    },
    {
      "cell_type": "code",
      "source": [
        "operation = my_conv_layer.weight.detach().numpy()\n",
        "operation.shape"
      ],
      "metadata": {
        "colab": {
          "base_uri": "https://localhost:8080/"
        },
        "id": "P0MlDqV6J-Hs",
        "outputId": "f6021d79-2f08-4967-bc6b-436ba3c107c9"
      },
      "execution_count": null,
      "outputs": [
        {
          "output_type": "execute_result",
          "data": {
            "text/plain": [
              "(1, 1, 3, 3)"
            ]
          },
          "metadata": {},
          "execution_count": 61
        }
      ]
    },
    {
      "cell_type": "code",
      "source": [
        "\n",
        "plt.imshow(operation, cmap = \"gray\")"
      ],
      "metadata": {
        "id": "VFruq4h0wB8D",
        "colab": {
          "base_uri": "https://localhost:8080/",
          "height": 452
        },
        "outputId": "22aa8862-74c7-485a-c0e0-9688131f9a74"
      },
      "execution_count": null,
      "outputs": [
        {
          "output_type": "execute_result",
          "data": {
            "text/plain": [
              "<matplotlib.image.AxesImage at 0x7b7a91a323e0>"
            ]
          },
          "metadata": {},
          "execution_count": 56
        },
        {
          "output_type": "display_data",
          "data": {
            "text/plain": [
              "<Figure size 640x480 with 1 Axes>"
            ],
            "image/png": "[encoded data removed]"
          },
          "metadata": {}
        }
      ]
    },
    {
      "cell_type": "code",
      "source": [
        "filtered_img.shape"
      ],
      "metadata": {
        "colab": {
          "base_uri": "https://localhost:8080/"
        },
        "id": "_I8ZypLIBcJn",
        "outputId": "282e0ce7-c9f2-46b6-fad4-b95bf2d9da50"
      },
      "execution_count": null,
      "outputs": [
        {
          "output_type": "execute_result",
          "data": {
            "text/plain": [
              "torch.Size([1, 1, 26, 26])"
            ]
          },
          "metadata": {},
          "execution_count": 57
        }
      ]
    },
    {
      "cell_type": "code",
      "source": [
        "def plot_filter_image(img, label):\n",
        "\n",
        "  f, ax = plt.subplots(1,figsize=(2,2))\n",
        "  ax.imshow(img.squeeze().numpy(), cmap = \"Greys\")# img is a tensor, it is better to convert to numpy (using the method .numpy() )\n",
        "  ax.set_title(\"image of a {}\".format(classes[label]))\n",
        "\n",
        "\n",
        "plot_filter_image(filtered_img, label)# this is a random filter"
      ],
      "metadata": {
        "id": "EOMD-OlUvfX0",
        "colab": {
          "base_uri": "https://localhost:8080/",
          "height": 237
        },
        "outputId": "9b78e988-bad5-4e58-c257-c69c6b0c70fc"
      },
      "execution_count": null,
      "outputs": [
        {
          "output_type": "display_data",
          "data": {
            "text/plain": [
              "<Figure size 200x200 with 1 Axes>"
            ],
            "image/png": "[encoded data removed]"
          },
          "metadata": {}
        }
      ]
    },
    {
      "cell_type": "markdown",
      "source": [
        "## We can define by hand an operator and put it inside the conv layer.\n",
        "Usually a convolutional operation over an image is also called a filter.\n",
        "\n",
        "We can copy something from [HERE](https://matematicas.uam.es/~fernando.chamizo/dark/d_simimf.html)\n",
        "\n",
        "Usually we want that our neural network learns its own filter using gradient descend optimization but I want to show that \"human enegineered filters\" are just operation made on pixels"
      ],
      "metadata": {
        "id": "8aCZ1yjkyyXc"
      }
    },
    {
      "cell_type": "code",
      "source": [
        "# we can define by hand an operator and put it inside the conv layer.\n",
        "sharpen_filter = [[0,-1,0],[-1,5,-1],[0,-1,0]]\n",
        "\n"
      ],
      "metadata": {
        "id": "eRGMXBVkvxS8"
      },
      "execution_count": null,
      "outputs": []
    },
    {
      "cell_type": "code",
      "source": [
        "torch_sharpen = torch.tensor(sharpen_filter, dtype=my_conv_layer.weight.dtype)"
      ],
      "metadata": {
        "id": "ku3-J_Ktz-hv"
      },
      "execution_count": null,
      "outputs": []
    },
    {
      "cell_type": "code",
      "source": [
        "torch_sharpen.unsqueeze(0).unsqueeze(0).shape"
      ],
      "metadata": {
        "colab": {
          "base_uri": "https://localhost:8080/"
        },
        "id": "8rZCpkc5DNe3",
        "outputId": "eb6b8b2b-54e3-440a-c3cb-d03715885216"
      },
      "execution_count": null,
      "outputs": [
        {
          "output_type": "execute_result",
          "data": {
            "text/plain": [
              "torch.Size([1, 1, 3, 3])"
            ]
          },
          "metadata": {},
          "execution_count": 65
        }
      ]
    },
    {
      "cell_type": "code",
      "source": [
        "# use the hand crafted filter instead\n",
        "my_conv_layer.weight = nn.Parameter(torch_sharpen.unsqueeze(0).unsqueeze(0))# we need to put batch and channel dimention"
      ],
      "metadata": {
        "id": "nE0vOiIcz_TL"
      },
      "execution_count": null,
      "outputs": []
    },
    {
      "cell_type": "code",
      "source": [
        "filtered_img = my_conv_layer(img.unsqueeze(0)).detach()\n",
        "plot_filter_image(filtered_img, label)# this is a sharpen filter"
      ],
      "metadata": {
        "id": "-Dfz831k1CxI",
        "colab": {
          "base_uri": "https://localhost:8080/",
          "height": 237
        },
        "outputId": "a6126b9c-b5dc-426c-9015-4090aee1d0d5"
      },
      "execution_count": null,
      "outputs": [
        {
          "output_type": "display_data",
          "data": {
            "text/plain": [
              "<Figure size 200x200 with 1 Axes>"
            ],
            "image/png": "[encoded data removed]"
          },
          "metadata": {}
        }
      ]
    },
    {
      "cell_type": "code",
      "source": [
        "# Define the CNN model\n",
        "import torch.nn.functional as F\n",
        "\n",
        "class CIFAR10Classifier(nn.Module):\n",
        "    def __init__(self):\n",
        "        super(CIFAR10Classifier, self).__init__()\n",
        "        # Convolutional layers\n",
        "        self.conv1 = nn.Conv2d(1, 16, kernel_size=3, stride=1, padding=1) #28 + 2*p = 30/ 3 = 10\n",
        "        self.conv2 = nn.Conv2d(16, 32, kernel_size=3, stride=1, padding=2) # 14 +4*p = 16/3 = 5.3\n",
        "        self.conv3 = nn.Conv2d(32, 64, kernel_size=3, stride=1, padding=1) # 5 + 2 =7\n",
        "        self.conv4 = nn.Conv2d(64,64,kernel_size=3,stride=1, padding=1)# fixed at 4\n",
        "        # Max pooling layer\n",
        "        self.pool = nn.MaxPool2d(kernel_size=2, stride=2)\n",
        "        # Fully connected layers\n",
        "        self.fc1 = nn.Linear( 64 * 2 * 2, 128)# 32/2 16/2 8/2 4\n",
        "        self.fc2 = nn.Linear(128, 64)\n",
        "        self.fc3 = nn.Linear(64, 10)\n",
        "        # Dropout layer\n",
        "        self.dropout = nn.Dropout(0.25)\n",
        "\n",
        "    def forward(self, x):\n",
        "        x = F.relu(self.conv1(x))\n",
        "        x = self.pool(x)\n",
        "        x = F.relu(self.conv2(x))\n",
        "        x = self.pool(x)\n",
        "        x = F.relu(self.conv3(x))\n",
        "        x = self.pool(x)\n",
        "        x = F.relu(self.conv4(x))\n",
        "        x = self.pool(x)\n",
        "\n",
        "       # print(x.shape)\n",
        "        # Flatten the tensor\n",
        "        x = x.view(-1, 64 * 2 * 2)\n",
        "\n",
        "        # Apply dropout\n",
        "        x = self.dropout(x)\n",
        "        x = F.relu(self.fc1(x))\n",
        "        x = self.dropout(x)\n",
        "        x = F.relu(self.fc2(x))\n",
        "        x = self.fc3(x)\n",
        "        return x"
      ],
      "metadata": {
        "id": "Xtx0D0Ql5lZp"
      },
      "execution_count": null,
      "outputs": []
    },
    {
      "cell_type": "code",
      "source": [
        "\n",
        "\n",
        "\n",
        "# Create an instance of the CNN model\n",
        "#model = CIFAR10Classifier()\n",
        "\n",
        "\n",
        "# Define the loss function and optimizer\n",
        "criterion = nn.CrossEntropyLoss()\n",
        "optimizer = optim.Adam(model.parameters(), lr=1e-5)\n",
        "\n",
        "# this is a useful tool to print the structure of the model in a keras-like fashion ...\n",
        "from torchsummary import summary\n",
        "if torch.cuda.is_available():\n",
        "  summary(model.cuda(), input_size=(1,28,28))\n",
        "else:\n",
        "  summary(model, input_size=(1,28,28))"
      ],
      "metadata": {
        "id": "6J4Bwl1k1a7W",
        "colab": {
          "base_uri": "https://localhost:8080/"
        },
        "outputId": "05d16a21-c126-46e4-ef5f-9db035d54710"
      },
      "execution_count": null,
      "outputs": [
        {
          "output_type": "stream",
          "name": "stdout",
          "text": [
            "----------------------------------------------------------------\n",
            "        Layer (type)               Output Shape         Param #\n",
            "================================================================\n",
            "            Conv2d-1           [-1, 16, 28, 28]             160\n",
            "         MaxPool2d-2           [-1, 16, 14, 14]               0\n",
            "            Conv2d-3           [-1, 32, 16, 16]           4,640\n",
            "         MaxPool2d-4             [-1, 32, 8, 8]               0\n",
            "            Conv2d-5             [-1, 64, 8, 8]          18,496\n",
            "         MaxPool2d-6             [-1, 64, 4, 4]               0\n",
            "            Conv2d-7             [-1, 64, 4, 4]          36,928\n",
            "         MaxPool2d-8             [-1, 64, 2, 2]               0\n",
            "           Dropout-9                  [-1, 256]               0\n",
            "           Linear-10                  [-1, 128]          32,896\n",
            "          Dropout-11                  [-1, 128]               0\n",
            "           Linear-12                   [-1, 64]           8,256\n",
            "           Linear-13                   [-1, 10]             650\n",
            "================================================================\n",
            "Total params: 102,026\n",
            "Trainable params: 102,026\n",
            "Non-trainable params: 0\n",
            "----------------------------------------------------------------\n",
            "Input size (MB): 0.00\n",
            "Forward/backward pass size (MB): 0.25\n",
            "Params size (MB): 0.39\n",
            "Estimated Total Size (MB): 0.64\n",
            "----------------------------------------------------------------\n"
          ]
        }
      ]
    },
    {
      "cell_type": "code",
      "source": [
        "# define device to use (cpu/gpu)\n",
        "if torch.cuda.is_available():\n",
        "  print('# of GPUs available: ', torch.cuda.device_count())\n",
        "  print('First GPU type: ',torch.cuda.get_device_name(0))\n",
        "device = ('cuda' if torch.cuda.is_available() else 'cpu')\n",
        "print(f\"Computation device: {device}\\n\")\n",
        "\n",
        "model.to(device)"
      ],
      "metadata": {
        "colab": {
          "base_uri": "https://localhost:8080/"
        },
        "id": "CGYPMblhJ1dH",
        "outputId": "da2a04be-3c87-4406-c9aa-f617826590dd"
      },
      "execution_count": null,
      "outputs": [
        {
          "output_type": "stream",
          "name": "stdout",
          "text": [
            "# of GPUs available:  1\n",
            "First GPU type:  Tesla V100-SXM2-16GB\n",
            "Computation device: cuda\n",
            "\n"
          ]
        },
        {
          "output_type": "execute_result",
          "data": {
            "text/plain": [
              "CIFAR10Classifier(\n",
              "  (conv1): Conv2d(1, 16, kernel_size=(3, 3), stride=(1, 1), padding=(1, 1))\n",
              "  (conv2): Conv2d(16, 32, kernel_size=(3, 3), stride=(1, 1), padding=(2, 2))\n",
              "  (conv3): Conv2d(32, 64, kernel_size=(3, 3), stride=(1, 1), padding=(1, 1))\n",
              "  (conv4): Conv2d(64, 64, kernel_size=(3, 3), stride=(1, 1), padding=(1, 1))\n",
              "  (pool): MaxPool2d(kernel_size=2, stride=2, padding=0, dilation=1, ceil_mode=False)\n",
              "  (fc1): Linear(in_features=256, out_features=128, bias=True)\n",
              "  (fc2): Linear(in_features=128, out_features=64, bias=True)\n",
              "  (fc3): Linear(in_features=64, out_features=10, bias=True)\n",
              "  (dropout): Dropout(p=0.25, inplace=False)\n",
              ")"
            ]
          },
          "metadata": {},
          "execution_count": 106
        }
      ]
    },
    {
      "cell_type": "code",
      "source": [
        "# Training loop\n",
        "num_epochs = 15\n",
        "\n",
        "for epoch in range(num_epochs):\n",
        "    for i, (images, labels) in enumerate(trainloader):\n",
        "      images = images.to(device)\n",
        "      labels = labels.to(device)\n",
        "\n",
        "\n",
        "      # Forward pass\n",
        "      outputs = model(images)\n",
        "      loss = criterion(outputs, labels)\n",
        "\n",
        "      # Backward and optimize\n",
        "      optimizer.zero_grad()\n",
        "      loss.backward()\n",
        "      optimizer.step()\n",
        "\n",
        "      if (i+1) % 100 == 0:\n",
        "          print(f'Epoch [{epoch+1}/{num_epochs}], Step [{i+1}/{len(trainloader)}], Loss: {loss.item():.4f}')\n",
        "\n",
        "# Testing loop\n",
        "model.eval()\n",
        "with torch.no_grad():\n",
        "    correct = 0\n",
        "    total = 0\n",
        "    for images, labels in testloader:\n",
        "      images = images.to(device)\n",
        "      labels = labels.to(device)\n",
        "\n",
        "      outputs = model(images)\n",
        "      _, predicted = torch.max(outputs.data, 1)\n",
        "      total += labels.size(0)\n",
        "      correct += (predicted == labels).sum().item()\n",
        "\n",
        "    print(f'Test Accuracy: {(correct/total)*100:.2f}%')"
      ],
      "metadata": {
        "colab": {
          "base_uri": "https://localhost:8080/"
        },
        "id": "YRIvgKxQ5tri",
        "outputId": "33cb525e-c945-4d81-d9f6-7bdfb4e13c36"
      },
      "execution_count": null,
      "outputs": [
        {
          "output_type": "stream",
          "name": "stdout",
          "text": [
            "Epoch [1/15], Step [100/469], Loss: 0.0003\n",
            "Epoch [1/15], Step [200/469], Loss: 0.0002\n",
            "Epoch [1/15], Step [300/469], Loss: 0.0027\n",
            "Epoch [1/15], Step [400/469], Loss: 0.0002\n",
            "Epoch [2/15], Step [100/469], Loss: 0.0073\n",
            "Epoch [2/15], Step [200/469], Loss: 0.0014\n",
            "Epoch [2/15], Step [300/469], Loss: 0.0002\n",
            "Epoch [2/15], Step [400/469], Loss: 0.0024\n",
            "Epoch [3/15], Step [100/469], Loss: 0.0003\n",
            "Epoch [3/15], Step [200/469], Loss: 0.0010\n",
            "Epoch [3/15], Step [300/469], Loss: 0.0022\n",
            "Epoch [3/15], Step [400/469], Loss: 0.0001\n",
            "Epoch [4/15], Step [100/469], Loss: 0.0002\n",
            "Epoch [4/15], Step [200/469], Loss: 0.0002\n",
            "Epoch [4/15], Step [300/469], Loss: 0.0005\n",
            "Epoch [4/15], Step [400/469], Loss: 0.0002\n",
            "Epoch [5/15], Step [100/469], Loss: 0.0001\n",
            "Epoch [5/15], Step [200/469], Loss: 0.0008\n",
            "Epoch [5/15], Step [300/469], Loss: 0.0012\n",
            "Epoch [5/15], Step [400/469], Loss: 0.0002\n",
            "Epoch [6/15], Step [100/469], Loss: 0.0018\n",
            "Epoch [6/15], Step [200/469], Loss: 0.0010\n",
            "Epoch [6/15], Step [300/469], Loss: 0.0514\n",
            "Epoch [6/15], Step [400/469], Loss: 0.0037\n",
            "Epoch [7/15], Step [100/469], Loss: 0.0010\n",
            "Epoch [7/15], Step [200/469], Loss: 0.0018\n",
            "Epoch [7/15], Step [300/469], Loss: 0.0003\n",
            "Epoch [7/15], Step [400/469], Loss: 0.0003\n",
            "Epoch [8/15], Step [100/469], Loss: 0.0029\n",
            "Epoch [8/15], Step [200/469], Loss: 0.0002\n",
            "Epoch [8/15], Step [300/469], Loss: 0.0048\n",
            "Epoch [8/15], Step [400/469], Loss: 0.0008\n",
            "Epoch [9/15], Step [100/469], Loss: 0.0003\n",
            "Epoch [9/15], Step [200/469], Loss: 0.0001\n",
            "Epoch [9/15], Step [300/469], Loss: 0.0023\n",
            "Epoch [9/15], Step [400/469], Loss: 0.0007\n",
            "Epoch [10/15], Step [100/469], Loss: 0.0003\n",
            "Epoch [10/15], Step [200/469], Loss: 0.0000\n",
            "Epoch [10/15], Step [300/469], Loss: 0.0001\n",
            "Epoch [10/15], Step [400/469], Loss: 0.0012\n",
            "Epoch [11/15], Step [100/469], Loss: 0.0077\n",
            "Epoch [11/15], Step [200/469], Loss: 0.0006\n",
            "Epoch [11/15], Step [300/469], Loss: 0.0004\n",
            "Epoch [11/15], Step [400/469], Loss: 0.0255\n",
            "Epoch [12/15], Step [100/469], Loss: 0.0002\n",
            "Epoch [12/15], Step [200/469], Loss: 0.0001\n",
            "Epoch [12/15], Step [300/469], Loss: 0.0002\n",
            "Epoch [12/15], Step [400/469], Loss: 0.0004\n",
            "Epoch [13/15], Step [100/469], Loss: 0.0001\n",
            "Epoch [13/15], Step [200/469], Loss: 0.0005\n",
            "Epoch [13/15], Step [300/469], Loss: 0.0001\n",
            "Epoch [13/15], Step [400/469], Loss: 0.0007\n",
            "Epoch [14/15], Step [100/469], Loss: 0.0002\n",
            "Epoch [14/15], Step [200/469], Loss: 0.0003\n",
            "Epoch [14/15], Step [300/469], Loss: 0.0010\n",
            "Epoch [14/15], Step [400/469], Loss: 0.0007\n",
            "Epoch [15/15], Step [100/469], Loss: 0.0004\n",
            "Epoch [15/15], Step [200/469], Loss: 0.0044\n",
            "Epoch [15/15], Step [300/469], Loss: 0.0000\n",
            "Epoch [15/15], Step [400/469], Loss: 0.0005\n",
            "Test Accuracy: 99.38%\n"
          ]
        }
      ]
    },
    {
      "cell_type": "code",
      "source": [],
      "metadata": {
        "id": "iKrp1g0H530b"
      },
      "execution_count": null,
      "outputs": []
    }
  ]
}